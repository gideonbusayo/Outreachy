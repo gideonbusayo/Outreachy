{
  "nbformat": 4,
  "nbformat_minor": 0,
  "metadata": {
    "colab": {
      "provenance": [],
      "authorship_tag": "ABX9TyNkA6CJ+ln0QfVSt3Ovdr/r",
      "include_colab_link": true
    },
    "kernelspec": {
      "name": "python3",
      "display_name": "Python 3"
    },
    "language_info": {
      "name": "python"
    }
  },
  "cells": [
    {
      "cell_type": "markdown",
      "metadata": {
        "id": "view-in-github",
        "colab_type": "text"
      },
      "source": [
        "<a href=\"https://colab.research.google.com/github/gideonbusayo/Outreachy/blob/main/Outreachy_Experiment_to_modernize_the_Debian_Wiki.ipynb\" target=\"_parent\"><img src=\"https://colab.research.google.com/assets/colab-badge.svg\" alt=\"Open In Colab\"/></a>"
      ]
    },
    {
      "cell_type": "code",
      "execution_count": 1,
      "metadata": {
        "colab": {
          "base_uri": "https://localhost:8080/"
        },
        "id": "I0OXH_bXgBvU",
        "outputId": "73613ed1-ea14-4279-b7c0-78f008b1a98f"
      },
      "outputs": [
        {
          "output_type": "stream",
          "name": "stdout",
          "text": [
            "Collecting feedparser\n",
            "  Downloading feedparser-6.0.10-py3-none-any.whl (81 kB)\n",
            "\u001b[?25l     \u001b[90m━━━━━━━━━━━━━━━━━━━━━━━━━━━━━━━━━━━━━━━━\u001b[0m \u001b[32m0.0/81.1 kB\u001b[0m \u001b[31m?\u001b[0m eta \u001b[36m-:--:--\u001b[0m\r\u001b[2K     \u001b[91m━━━━━━━━━━━━━━━━━━━\u001b[0m\u001b[91m╸\u001b[0m\u001b[90m━━━━━━━━━━━━━━━━━━━\u001b[0m \u001b[32m41.0/81.1 kB\u001b[0m \u001b[31m952.7 kB/s\u001b[0m eta \u001b[36m0:00:01\u001b[0m\r\u001b[2K     \u001b[90m━━━━━━━━━━━━━━━━━━━━━━━━━━━━━━━━━━━━━━━━\u001b[0m \u001b[32m81.1/81.1 kB\u001b[0m \u001b[31m1.4 MB/s\u001b[0m eta \u001b[36m0:00:00\u001b[0m\n",
            "\u001b[?25hCollecting sgmllib3k (from feedparser)\n",
            "  Downloading sgmllib3k-1.0.0.tar.gz (5.8 kB)\n",
            "  Preparing metadata (setup.py) ... \u001b[?25l\u001b[?25hdone\n",
            "Building wheels for collected packages: sgmllib3k\n",
            "  Building wheel for sgmllib3k (setup.py) ... \u001b[?25l\u001b[?25hdone\n",
            "  Created wheel for sgmllib3k: filename=sgmllib3k-1.0.0-py3-none-any.whl size=6047 sha256=0dadc6e2586ef3c619e3fba3051d497bd7f39f7ce552b1761e2fea641f8ea54f\n",
            "  Stored in directory: /root/.cache/pip/wheels/f0/69/93/a47e9d621be168e9e33c7ce60524393c0b92ae83cf6c6e89c5\n",
            "Successfully built sgmllib3k\n",
            "Installing collected packages: sgmllib3k, feedparser\n",
            "Successfully installed feedparser-6.0.10 sgmllib3k-1.0.0\n"
          ]
        }
      ],
      "source": [
        "pip install feedparser\n"
      ]
    },
    {
      "cell_type": "code",
      "source": [
        "import requests\n",
        "import feedparser\n",
        "\n",
        "def simple_get(url):\n",
        "    \"\"\"\n",
        "    Attempts to get the content at `url` by making an HTTP GET request.\n",
        "    If the content-type of the response is HTML, return the text content; otherwise, return None.\n",
        "    \"\"\"\n",
        "    try:\n",
        "        response = requests.get(url)\n",
        "        if response.status_code == 200:\n",
        "            return response.text\n",
        "        else:\n",
        "            return None\n",
        "\n",
        "    except requests.exceptions.RequestException as e:\n",
        "        log_error('Error during requests to {0} : {1}'.format(url, str(e)))\n",
        "        return None\n",
        "\n",
        "def is_good_response(resp):\n",
        "    \"\"\"\n",
        "    Returns True if the response seems to be HTML, False otherwise.\n",
        "    \"\"\"\n",
        "    content_type = resp.headers['Content-Type'].lower()\n",
        "    return (resp.status_code == 200\n",
        "            and content_type is not None\n",
        "            and content_type.find('html') > -1)\n",
        "\n",
        "def log_error(e):\n",
        "    \"\"\"\n",
        "    It is always a good idea to log errors.\n",
        "    This function just prints them, but you can make it do anything.\n",
        "    \"\"\"\n",
        "    print(e)\n",
        "\n",
        "def get_debian_news():\n",
        "    rss_feed_url = \"https://www.debian.org/News/news\"\n",
        "\n",
        "    # Fetch the RSS feed content using simple_get\n",
        "    rss_content = simple_get(rss_feed_url)\n",
        "\n",
        "    if rss_content:\n",
        "        # Parse the RSS feed\n",
        "        feed = feedparser.parse(rss_content)\n",
        "\n",
        "        if 'entries' in feed:\n",
        "            entries = feed.entries\n",
        "\n",
        "            # Create a Markdown file to write the content\n",
        "            with open('debian_news.md', 'w', encoding='utf-8') as md_file:\n",
        "                # Write the title of the RSS feed\n",
        "                md_file.write(\"# Debian News\\n\\n\")\n",
        "\n",
        "                for entry in entries:\n",
        "                    # Write the title and publication date of each entry as a Markdown heading\n",
        "                    md_file.write(f\"## {entry.title}\\n\")\n",
        "\n",
        "                    # Check if 'published_parsed' attribute exists before using it\n",
        "                    if 'published_parsed' in entry:\n",
        "                        published_date = entry.published_parsed\n",
        "                        published_str = f\"Published on {published_date.tm_year}-{published_date.tm_mon:02d}-{published_date.tm_mday:02d}\"\n",
        "                        md_file.write(f\"{published_str}\\n\\n\")\n",
        "\n",
        "                    # Write the content of the entry as a Markdown paragraph\n",
        "                    md_file.write(f\"{entry.summary}\\n\\n\")\n",
        "\n",
        "            print(\"Debian News content has been saved to debian_news.md\")\n",
        "        else:\n",
        "            print(\"Failed to retrieve content from the Debian News RSS feed.\")\n",
        "    else:\n",
        "        print(\"Failed to retrieve RSS feed content.\")\n",
        "\n",
        "if __name__ == \"__main__\":\n",
        "    get_debian_news()\n"
      ],
      "metadata": {
        "colab": {
          "base_uri": "https://localhost:8080/"
        },
        "id": "f7MxbohpgC5D",
        "outputId": "f1de2ca3-d13d-4604-ec10-acebb6f4d935"
      },
      "execution_count": 2,
      "outputs": [
        {
          "output_type": "stream",
          "name": "stdout",
          "text": [
            "Debian News content has been saved to debian_news.md\n"
          ]
        }
      ]
    }
  ]
}